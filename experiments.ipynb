{
 "cells": [
  {
   "cell_type": "code",
   "execution_count": 1,
   "metadata": {
    "execution": {
     "iopub.execute_input": "2022-11-19T00:23:50.967677Z",
     "iopub.status.busy": "2022-11-19T00:23:50.967366Z",
     "iopub.status.idle": "2022-11-19T00:23:50.973388Z",
     "shell.execute_reply": "2022-11-19T00:23:50.973119Z",
     "shell.execute_reply.started": "2022-11-19T00:23:50.967622Z"
    },
    "tags": []
   },
   "outputs": [],
   "source": [
    "import os\n",
    "os.environ['CUDA_VISIBLE_DEVICES']='2'"
   ]
  },
  {
   "cell_type": "code",
   "execution_count": 2,
   "metadata": {
    "execution": {
     "iopub.execute_input": "2022-11-19T00:23:50.974008Z",
     "iopub.status.busy": "2022-11-19T00:23:50.973808Z",
     "iopub.status.idle": "2022-11-19T00:24:00.135806Z",
     "shell.execute_reply": "2022-11-19T00:24:00.135394Z",
     "shell.execute_reply.started": "2022-11-19T00:23:50.973995Z"
    },
    "tags": []
   },
   "outputs": [],
   "source": [
    "import pickle\n",
    "import matplotlib.pyplot as plt\n",
    "import numpy as np\n",
    "\n",
    "from nda.optimizers import DANE, ADMM\n",
    "from nda.experiment_utils import run_exp\n",
    "from nda.problems import LinearRegression, LogisticRegression\n",
    "\n",
    "from optimizers import BFGS, CEDANE"
   ]
  },
  {
   "cell_type": "code",
   "execution_count": 3,
   "metadata": {
    "execution": {
     "iopub.execute_input": "2022-11-19T00:24:00.136655Z",
     "iopub.status.busy": "2022-11-19T00:24:00.136464Z",
     "iopub.status.idle": "2022-11-19T00:24:00.140061Z",
     "shell.execute_reply": "2022-11-19T00:24:00.139786Z",
     "shell.execute_reply.started": "2022-11-19T00:24:00.136631Z"
    },
    "tags": []
   },
   "outputs": [],
   "source": [
    "def plot(results, kappa, max_comm=None):\n",
    "    from nda.experiment_utils.utils import LINE_STYLES\n",
    "    legends = []\n",
    "    plt.figure()\n",
    "    for (name, data), style in zip(results, LINE_STYLES()):\n",
    "        if 'comm_rounds' in data.columns:\n",
    "            legends.append(name)\n",
    "            mask = data.comm_rounds <= max_comm\n",
    "            plt.semilogy(data.loc[mask].comm_rounds, data.loc[mask].f / p.f_min - 1, style)\n",
    "\n",
    "    plt.ylabel(\"Relative optimality gap\")\n",
    "    plt.xlabel('Communications')\n",
    "    plt.title(r\"$\\kappa$ = \" + str(int(kappa)))\n",
    "    plt.legend(legends)"
   ]
  },
  {
   "cell_type": "markdown",
   "metadata": {},
   "source": [
    "# Linear Regression with synthetic dataset"
   ]
  },
  {
   "cell_type": "markdown",
   "metadata": {
    "tags": []
   },
   "source": [
    "## Kappa = 10"
   ]
  },
  {
   "cell_type": "code",
   "execution_count": 4,
   "metadata": {
    "execution": {
     "iopub.execute_input": "2022-11-19T00:24:00.141089Z",
     "iopub.status.busy": "2022-11-19T00:24:00.140888Z",
     "iopub.status.idle": "2022-11-19T00:24:22.440512Z",
     "shell.execute_reply": "2022-11-19T00:24:22.439647Z",
     "shell.execute_reply.started": "2022-11-19T00:24:00.141076Z"
    },
    "tags": []
   },
   "outputs": [
    {
     "name": "stderr",
     "output_type": "stream",
     "text": [
      "\u001b[32mINFO 19:24:00.9773 5691 linear_regression.py:31] Initializing using GPU\u001b[0m\n",
      "\u001b[32mINFO 19:24:01.9943 5811 linear_regression.py:63] f_min = 0.44141149623642684\u001b[0m\n",
      "\u001b[32mINFO 19:24:02.9605 5691 linear_regression.py:46] beta = 0.3138\u001b[0m\n",
      "\u001b[32mINFO 19:24:02.9626 5691 linear_regression.py:48] Initialization done\u001b[0m\n",
      "\u001b[32mINFO 19:24:02.9750 5851 utils.py:21] ADMM started\u001b[0m\n",
      "\u001b[32mINFO 19:24:02.9827 5854 utils.py:21] BFGS started\u001b[0m\n",
      "\u001b[32mINFO 19:24:02.9900 5857 utils.py:21] DANE started\u001b[0m\n",
      "\u001b[32mINFO 19:24:02.9977 5860 utils.py:21] CEDANE started\u001b[0m\n",
      "\u001b[32mINFO 19:24:04.6118 5854 optimizer.py:201] Gradient norm converged\u001b[0m\n",
      "\u001b[32mINFO 19:24:04.6151 5854 utils.py:40] BFGS done, total 1.63s\u001b[0m\n",
      "\u001b[32mINFO 19:24:19.6420 5860 optimizer.py:201] Gradient norm converged\u001b[0m\n",
      "\u001b[32mINFO 19:24:19.6456 5860 utils.py:40] CEDANE done, total 16.65s\u001b[0m\n",
      "\u001b[32mINFO 19:24:19.9264 5857 optimizer.py:201] Gradient norm converged\u001b[0m\n",
      "\u001b[32mINFO 19:24:19.9311 5857 utils.py:40] DANE done, total 16.94s\u001b[0m\n",
      "\u001b[32mINFO 19:24:22.2110 5851 utils.py:40] ADMM done, total 19.24s\u001b[0m\n"
     ]
    }
   ],
   "source": [
    "n_agent = 20\n",
    "m = 80\n",
    "dim = 200\n",
    "\n",
    "kappa = 10\n",
    "n_iters = 100\n",
    "\n",
    "p = LinearRegression(n_agent=n_agent, m=m, dim=dim, noise_variance=1, kappa=kappa, graph_type='er', graph_params=0.3)\n",
    "\n",
    "x_0 = np.random.rand(dim, n_agent).mean(axis=1)\n",
    "\n",
    "exps = [\n",
    "    ADMM(p, n_iters=2*n_iters, rho=1.2, x_0=x_0),\n",
    "    BFGS(p, n_iters=2*n_iters, mu=1.1, x_0=x_0),\n",
    "    DANE(p, n_iters=n_iters, mu=6E-2, x_0=x_0),\n",
    "    CEDANE(p, n_iters=n_iters, mu=12E-2, x_0=x_0)\n",
    "    ]\n",
    "\n",
    "res = run_exp(exps, kappa=kappa, max_iter=n_iters, n_gpus=1, processes_per_gpu=4, save=False, plot=False)"
   ]
  },
  {
   "cell_type": "code",
   "execution_count": 5,
   "metadata": {
    "execution": {
     "iopub.execute_input": "2022-11-19T00:24:22.442414Z",
     "iopub.status.busy": "2022-11-19T00:24:22.442028Z",
     "iopub.status.idle": "2022-11-19T00:24:22.920010Z",
     "shell.execute_reply": "2022-11-19T00:24:22.919571Z",
     "shell.execute_reply.started": "2022-11-19T00:24:22.442392Z"
    },
    "tags": []
   },
   "outputs": [
    {
     "data": {
      "image/png": "[encoded data removed]",
      "text/plain": [
       "<Figure size 432x288 with 1 Axes>"
      ]
     },
     "metadata": {
      "needs_background": "light"
     },
     "output_type": "display_data"
    }
   ],
   "source": [
    "plot(\n",
    "    res,\n",
    "    kappa,\n",
    "    max_comm=200\n",
    ")"
   ]
  },
  {
   "cell_type": "markdown",
   "metadata": {},
   "source": [
    "## Kappa = 10000"
   ]
  },
  {
   "cell_type": "code",
   "execution_count": 6,
   "metadata": {
    "execution": {
     "iopub.execute_input": "2022-11-19T00:24:22.921061Z",
     "iopub.status.busy": "2022-11-19T00:24:22.920725Z",
     "iopub.status.idle": "2022-11-19T00:25:27.066978Z",
     "shell.execute_reply": "2022-11-19T00:25:27.066197Z",
     "shell.execute_reply.started": "2022-11-19T00:24:22.921043Z"
    },
    "tags": []
   },
   "outputs": [
    {
     "name": "stderr",
     "output_type": "stream",
     "text": [
      "\u001b[32mINFO 19:24:23.6791 5691 linear_regression.py:31] Initializing using GPU\u001b[0m\n",
      "\u001b[32mINFO 19:24:24.5906 6420 linear_regression.py:63] f_min = 0.42875711784431436\u001b[0m\n",
      "\u001b[32mINFO 19:24:25.8933 5691 linear_regression.py:46] beta = 0.2269\u001b[0m\n",
      "\u001b[32mINFO 19:24:25.8965 5691 linear_regression.py:48] Initialization done\u001b[0m\n",
      "\u001b[32mINFO 19:24:25.9143 6461 utils.py:21] ADMM started\u001b[0m\n",
      "\u001b[32mINFO 19:24:25.9208 6464 utils.py:21] BFGS started\u001b[0m\n",
      "\u001b[32mINFO 19:24:25.9280 6467 utils.py:21] DANE started\u001b[0m\n",
      "\u001b[32mINFO 19:24:25.9354 6471 utils.py:21] CEDANE started\u001b[0m\n",
      "\u001b[32mINFO 19:24:28.0386 6464 utils.py:40] BFGS done, total 2.12s\u001b[0m\n",
      "\u001b[32mINFO 19:24:47.1222 6461 utils.py:40] ADMM done, total 21.21s\u001b[0m\n",
      "\u001b[32mINFO 19:25:26.3721 6471 utils.py:40] CEDANE done, total 60.44s\u001b[0m\n",
      "\u001b[32mINFO 19:25:26.8104 6467 utils.py:40] DANE done, total 60.88s\u001b[0m\n"
     ]
    }
   ],
   "source": [
    "n_agent = 20\n",
    "m = 80\n",
    "dim = 200\n",
    "\n",
    "kappa = 10000\n",
    "n_iters = 100\n",
    "\n",
    "p = LinearRegression(n_agent=n_agent, m=m, dim=dim, noise_variance=1, kappa=kappa, graph_type='er', graph_params=0.3)\n",
    "\n",
    "x_0 = np.random.rand(dim, n_agent).mean(axis=1)\n",
    "\n",
    "exps = [\n",
    "    ADMM(p, n_iters=n_iters*2, rho=1, x_0=x_0),\n",
    "    BFGS(p, n_iters=2*n_iters, mu=1.5, x_0=x_0),\n",
    "    DANE(p, n_iters=n_iters, mu=2E-3, x_0=x_0),\n",
    "    CEDANE(p, n_iters=n_iters, mu=2E-3, x_0=x_0)\n",
    "    ]\n",
    "\n",
    "res = run_exp(exps, kappa=kappa, max_iter=n_iters, n_gpus=1, processes_per_gpu=4, save=False, plot=False)"
   ]
  },
  {
   "cell_type": "code",
   "execution_count": 7,
   "metadata": {
    "execution": {
     "iopub.execute_input": "2022-11-19T00:25:27.069644Z",
     "iopub.status.busy": "2022-11-19T00:25:27.069355Z",
     "iopub.status.idle": "2022-11-19T00:25:27.415499Z",
     "shell.execute_reply": "2022-11-19T00:25:27.414880Z",
     "shell.execute_reply.started": "2022-11-19T00:25:27.069626Z"
    },
    "tags": []
   },
   "outputs": [
    {
     "data": {
      "image/png": "[encoded data removed]",
      "text/plain": [
       "<Figure size 432x288 with 1 Axes>"
      ]
     },
     "metadata": {
      "needs_background": "light"
     },
     "output_type": "display_data"
    }
   ],
   "source": [
    "plot(\n",
    "    res,\n",
    "    kappa,\n",
    "    max_comm=200\n",
    ")"
   ]
  },
  {
   "cell_type": "markdown",
   "metadata": {},
   "source": [
    "# Logisitic Regression with Gisette datatset"
   ]
  },
  {
   "cell_type": "markdown",
   "metadata": {},
   "source": [
    "## Kappa = 100"
   ]
  },
  {
   "cell_type": "code",
   "execution_count": 8,
   "metadata": {
    "execution": {
     "iopub.execute_input": "2022-11-19T00:25:27.416596Z",
     "iopub.status.busy": "2022-11-19T00:25:27.416388Z",
     "iopub.status.idle": "2022-11-19T00:25:56.862634Z",
     "shell.execute_reply": "2022-11-19T00:25:56.861821Z",
     "shell.execute_reply.started": "2022-11-19T00:25:27.416580Z"
    },
    "tags": []
   },
   "outputs": [
    {
     "name": "stderr",
     "output_type": "stream",
     "text": [
      "\u001b[32mINFO 19:25:27.4191 5691 dataset.py:32] Loading Gisette dataset from cached file\u001b[0m\n",
      "\u001b[32mINFO 19:25:28.3397 5691 logistic_regression.py:63] Initializing using GPU\u001b[0m\n",
      "\u001b[32mINFO 19:25:28.9410 6623 logistic_regression.py:86] Computing norm\u001b[0m\n",
      "\u001b[32mINFO 19:25:31.1847 6623 logistic_regression.py:92] Computing min\u001b[0m\n",
      "\u001b[32mINFO 19:25:31.5517 6623 logistic_regression.py:94] NAG ran for 237 iterations\u001b[0m\n",
      "\u001b[32mINFO 19:25:31.5567 6623 logistic_regression.py:96] f_min = 0.2910012422100766\u001b[0m\n",
      "\u001b[32mINFO 19:25:31.5580 6623 logistic_regression.py:97] grad_f(x_min) = 9.275749056325393e-11\u001b[0m\n",
      "\u001b[32mINFO 19:25:31.8063 5691 logistic_regression.py:79] Initialization done\u001b[0m\n",
      "\u001b[32mINFO 19:25:31.8934 6639 utils.py:21] BFGS started\u001b[0m\n",
      "\u001b[32mINFO 19:25:31.9001 6642 utils.py:21] DANE started\u001b[0m\n",
      "\u001b[32mINFO 19:25:31.9073 6645 utils.py:21] CEDANE started\u001b[0m\n",
      "\u001b[32mINFO 19:25:34.8319 6639 optimizer.py:201] Gradient norm converged\u001b[0m\n",
      "\u001b[32mINFO 19:25:34.8359 6639 utils.py:40] BFGS done, total 2.94s\u001b[0m\n",
      "\u001b[32mINFO 19:25:49.4013 6642 optimizer.py:201] Gradient norm converged\u001b[0m\n",
      "\u001b[32mINFO 19:25:49.4038 6642 utils.py:40] DANE done, total 17.50s\u001b[0m\n",
      "\u001b[32mINFO 19:25:56.5245 6645 optimizer.py:201] Gradient norm converged\u001b[0m\n",
      "\u001b[32mINFO 19:25:56.5274 6645 utils.py:40] CEDANE done, total 24.62s\u001b[0m\n"
     ]
    }
   ],
   "source": [
    "kappa = 100\n",
    "n_agent = 20\n",
    "n_iters = 100\n",
    "\n",
    "mu_BFGS =1.2\n",
    "mu_DANE =0.005\n",
    "mu_CEDANE = 0.01\n",
    "    \n",
    "p = LogisticRegression(n_agent=n_agent, kappa=kappa, graph_type='er', graph_params=0.5, dataset='gisette', normalize_data=True)\n",
    "x_0 = np.random.randn(p.dim, n_agent).mean(axis=1)\n",
    "\n",
    "exps = [\n",
    "    BFGS(p, n_iters=100, mu=mu_BFGS, x_0=x_0, var_eps=1e-10),\n",
    "    DANE(p, n_iters=50, local_n_iters=100, mu=mu_DANE, x_0=x_0, var_eps=1e-10),\n",
    "    CEDANE(p, n_iters=30, local_n_iters=100, mu=mu_CEDANE, x_0=x_0, var_eps=1e-10),\n",
    "]\n",
    "\n",
    "res = run_exp(exps, kappa=kappa, max_iter=n_iters, n_gpus=1, processes_per_gpu=4, plot=False, save=False)"
   ]
  },
  {
   "cell_type": "code",
   "execution_count": 9,
   "metadata": {
    "execution": {
     "iopub.execute_input": "2022-11-19T00:25:56.864138Z",
     "iopub.status.busy": "2022-11-19T00:25:56.863848Z",
     "iopub.status.idle": "2022-11-19T00:25:57.071980Z",
     "shell.execute_reply": "2022-11-19T00:25:57.071565Z",
     "shell.execute_reply.started": "2022-11-19T00:25:56.864115Z"
    },
    "tags": []
   },
   "outputs": [
    {
     "data": {
      "image/png": "[encoded data removed]",
      "text/plain": [
       "<Figure size 432x288 with 1 Axes>"
      ]
     },
     "metadata": {
      "needs_background": "light"
     },
     "output_type": "display_data"
    }
   ],
   "source": [
    "plot(res, kappa, max_comm=200)"
   ]
  },
  {
   "cell_type": "markdown",
   "metadata": {},
   "source": [
    "## Kappa = 10000"
   ]
  },
  {
   "cell_type": "code",
   "execution_count": 10,
   "metadata": {
    "execution": {
     "iopub.execute_input": "2022-11-19T00:25:57.072795Z",
     "iopub.status.busy": "2022-11-19T00:25:57.072680Z",
     "iopub.status.idle": "2022-11-19T00:29:57.988595Z",
     "shell.execute_reply": "2022-11-19T00:29:57.987773Z",
     "shell.execute_reply.started": "2022-11-19T00:25:57.072782Z"
    },
    "tags": []
   },
   "outputs": [
    {
     "name": "stderr",
     "output_type": "stream",
     "text": [
      "\u001b[32mINFO 19:25:57.0752 5691 dataset.py:32] Loading Gisette dataset from cached file\u001b[0m\n",
      "\u001b[32mINFO 19:25:57.9394 5691 logistic_regression.py:63] Initializing using GPU\u001b[0m\n",
      "\u001b[32mINFO 19:25:58.6141 6801 logistic_regression.py:86] Computing norm\u001b[0m\n",
      "\u001b[32mINFO 19:26:00.8411 6801 logistic_regression.py:92] Computing min\u001b[0m\n",
      "\u001b[32mINFO 19:26:02.6304 6801 logistic_regression.py:94] NAG ran for 2072 iterations\u001b[0m\n",
      "\u001b[32mINFO 19:26:02.6368 6801 logistic_regression.py:96] f_min = 0.04657673651652754\u001b[0m\n",
      "\u001b[32mINFO 19:26:02.6382 6801 logistic_regression.py:97] grad_f(x_min) = 9.386237993194705e-11\u001b[0m\n",
      "\u001b[32mINFO 19:26:02.8840 5691 logistic_regression.py:79] Initialization done\u001b[0m\n",
      "\u001b[32mINFO 19:26:02.9743 6819 utils.py:21] BFGS started\u001b[0m\n",
      "\u001b[32mINFO 19:26:02.9823 6822 utils.py:21] DANE started\u001b[0m\n",
      "\u001b[32mINFO 19:26:02.9909 6825 utils.py:21] CEDANE started\u001b[0m\n",
      "\u001b[32mINFO 19:26:08.8643 6819 utils.py:40] BFGS done, total 5.89s\u001b[0m\n",
      "\u001b[32mINFO 19:29:53.6557 6822 utils.py:40] DANE done, total 230.67s\u001b[0m\n",
      "\u001b[32mINFO 19:29:57.6014 6825 utils.py:40] CEDANE done, total 234.61s\u001b[0m\n"
     ]
    }
   ],
   "source": [
    "kappa = 10000\n",
    "n_agent = 20\n",
    "n_iters = 100\n",
    "\n",
    "mu_BFGS =1.2\n",
    "mu_DANE =0.003\n",
    "mu_CEDANE = 0.01       \n",
    "\n",
    "    \n",
    "p = LogisticRegression(n_agent=n_agent, kappa=kappa, graph_type='er', graph_params=0.5, dataset='gisette', normalize_data=True)\n",
    "x_0 = np.random.randn(p.dim, n_agent).mean(axis=1)\n",
    "\n",
    "exps = [\n",
    "    BFGS(p, n_iters=2*n_iters, mu=mu_BFGS, x_0=x_0, var_eps=1e-10),\n",
    "    DANE(p, n_iters=n_iters, local_n_iters=100, mu=mu_DANE, x_0=x_0, var_eps=1e-10),\n",
    "    CEDANE(p, n_iters=n_iters, local_n_iters=100, mu=mu_CEDANE, x_0=x_0, var_eps=1e-10),\n",
    "]\n",
    "\n",
    "res = run_exp(exps, kappa=kappa, max_iter=n_iters, n_gpus=1, processes_per_gpu=4, plot=False, save=False)"
   ]
  },
  {
   "cell_type": "code",
   "execution_count": 11,
   "metadata": {
    "execution": {
     "iopub.execute_input": "2022-11-19T00:29:57.990019Z",
     "iopub.status.busy": "2022-11-19T00:29:57.989775Z",
     "iopub.status.idle": "2022-11-19T00:29:58.360617Z",
     "shell.execute_reply": "2022-11-19T00:29:58.360178Z",
     "shell.execute_reply.started": "2022-11-19T00:29:57.990001Z"
    },
    "tags": []
   },
   "outputs": [
    {
     "data": {
      "image/png": "[encoded data removed]",
      "text/plain": [
       "<Figure size 432x288 with 1 Axes>"
      ]
     },
     "metadata": {
      "needs_background": "light"
     },
     "output_type": "display_data"
    }
   ],
   "source": [
    "plot(res, kappa, max_comm=200)"
   ]
  },
  {
   "cell_type": "markdown",
   "metadata": {},
   "source": [
    "# Varing number of agents"
   ]
  },
  {
   "cell_type": "code",
   "execution_count": 12,
   "metadata": {
    "execution": {
     "iopub.execute_input": "2022-11-19T00:29:58.361580Z",
     "iopub.status.busy": "2022-11-19T00:29:58.361357Z",
     "iopub.status.idle": "2022-11-19T00:29:58.364182Z",
     "shell.execute_reply": "2022-11-19T00:29:58.363822Z",
     "shell.execute_reply.started": "2022-11-19T00:29:58.361560Z"
    },
    "tags": []
   },
   "outputs": [],
   "source": [
    "from nda import log\n",
    "log.set_level('WARN')"
   ]
  },
  {
   "cell_type": "code",
   "execution_count": 13,
   "metadata": {
    "execution": {
     "iopub.execute_input": "2022-11-19T00:29:58.365845Z",
     "iopub.status.busy": "2022-11-19T00:29:58.365564Z",
     "iopub.status.idle": "2022-11-19T00:51:48.426384Z",
     "shell.execute_reply": "2022-11-19T00:51:48.425486Z",
     "shell.execute_reply.started": "2022-11-19T00:29:58.365829Z"
    },
    "tags": []
   },
   "outputs": [
    {
     "name": "stderr",
     "output_type": "stream",
     "text": [
      "\u001b[33mWARNING 19:29:58.4836 5691 3859164290.py:11] n_agent = 20\u001b[0m\n",
      "\u001b[33mWARNING 19:31:52.2419 5691 3859164290.py:11] n_agent = 30\u001b[0m\n",
      "\u001b[33mWARNING 19:34:44.8803 5691 3859164290.py:11] n_agent = 40\u001b[0m\n",
      "\u001b[33mWARNING 19:39:36.2515 5691 3859164290.py:11] n_agent = 50\u001b[0m\n",
      "\u001b[33mWARNING 19:44:22.2370 5691 3859164290.py:11] n_agent = 60\u001b[0m\n"
     ]
    }
   ],
   "source": [
    "kappa = 100\n",
    "\n",
    "n_iters = 1000\n",
    "n_rounds = 5\n",
    "\n",
    "n_agents = [20, 30, 40, 50, 60]\n",
    "results = {_: [[], [], []] for _ in n_agents}\n",
    "eps = 1e-7\n",
    "\n",
    "for n_agent in n_agents: \n",
    "    log.warn(f\"n_agent = {n_agent}\") \n",
    "\n",
    "    if n_agent == 20:   \n",
    "        mu_BFGS =1.2\n",
    "        mu_DANE =0.005\n",
    "        mu_CEDANE = 0.01\n",
    "\n",
    "    elif n_agent == 30:\n",
    "        mu_BFGS =1.2\n",
    "        mu_DANE =0.005\n",
    "        mu_CEDANE = 0.01\n",
    "        \n",
    "    elif n_agent == 40:\n",
    "        mu_BFGS =1.2\n",
    "        mu_DANE =0.005\n",
    "        mu_CEDANE = 0.01\n",
    "        \n",
    "    elif n_agent == 50:\n",
    "        mu_BFGS =1.2\n",
    "        mu_DANE =0.01\n",
    "        mu_CEDANE = 0.02\n",
    "        \n",
    "    else:\n",
    "        mu_BFGS =1.2\n",
    "        mu_DANE =0.01\n",
    "        mu_CEDANE = 0.02      \n",
    "\n",
    "    for _ in range(n_rounds):\n",
    "        p = LogisticRegression(n_agent=n_agent, kappa=kappa, graph_type='er', graph_params=0.5, dataset='gisette',normalize_data=True)\n",
    "        x_0 = np.random.randn(p.dim, n_agent).mean(axis=1)\n",
    "        exps = [\n",
    "            BFGS(p, n_iters=2*n_iters, mu=mu_BFGS, x_0=x_0, grad_eps=None, var_eps=1e-10, f_eps=eps),\n",
    "            DANE(p, n_iters=n_iters,local_n_iters=100, mu=mu_DANE, x_0=x_0, grad_eps=None, var_eps=1e-10, f_eps=eps),\n",
    "            CEDANE(p, n_iters=n_iters,local_n_iters=100, mu=mu_CEDANE, x_0=x_0, grad_eps=None, var_eps=1e-10, f_eps=eps),\n",
    "        ]\n",
    "\n",
    "        res = run_exp(exps, kappa=kappa, max_iter=n_iters, n_gpus=1, processes_per_gpu=4, plot=False, save=False)\n",
    "\n",
    "        for i in range(3):\n",
    "            f = res[i][1].f\n",
    "            f = f / p.f_min - 1\n",
    "            mask = f <= 1e-7\n",
    "            if mask.sum() > 0:\n",
    "                results[n_agent][i].append(res[i][1].loc[mask].comm_rounds.values[0])\n",
    "            else:\n",
    "                results[n_agent][i].append(n_iters)"
   ]
  },
  {
   "cell_type": "code",
   "execution_count": 14,
   "metadata": {
    "execution": {
     "iopub.execute_input": "2022-11-19T00:51:48.428710Z",
     "iopub.status.busy": "2022-11-19T00:51:48.428472Z",
     "iopub.status.idle": "2022-11-19T00:51:48.432055Z",
     "shell.execute_reply": "2022-11-19T00:51:48.431782Z",
     "shell.execute_reply.started": "2022-11-19T00:51:48.428688Z"
    },
    "tags": []
   },
   "outputs": [],
   "source": [
    "with open('num_agents.pickle', 'wb') as f:\n",
    "    pickle.dump(results, f, pickle.HIGHEST_PROTOCOL)"
   ]
  },
  {
   "cell_type": "code",
   "execution_count": 15,
   "metadata": {
    "execution": {
     "iopub.execute_input": "2022-11-19T00:51:48.432775Z",
     "iopub.status.busy": "2022-11-19T00:51:48.432546Z",
     "iopub.status.idle": "2022-11-19T00:51:48.459330Z",
     "shell.execute_reply": "2022-11-19T00:51:48.459063Z",
     "shell.execute_reply.started": "2022-11-19T00:51:48.432762Z"
    },
    "tags": []
   },
   "outputs": [
    {
     "data": {
      "text/plain": [
       "{20: [[48.0, 49.0, 43.0, 50.0, 48.0],\n",
       "  [16.0, 16.0, 16.0, 16.0, 16.0],\n",
       "  [14.0, 14.0, 14.0, 14.0, 14.0]],\n",
       " 30: [[51.0, 50.0, 51.0, 51.0, 47.0],\n",
       "  [26.0, 26.0, 28.0, 26.0, 24.0],\n",
       "  [16.0, 14.0, 18.0, 16.0, 16.0]],\n",
       " 40: [[47.0, 45.0, 49.0, 50.0, 47.0],\n",
       "  [46.0, 34.0, 44.0, 34.0, 46.0],\n",
       "  [24.0, 24.0, 20.0, 18.0, 24.0]],\n",
       " 50: [[49.0, 47.0, 48.0, 48.0, 48.0],\n",
       "  [32.0, 30.0, 36.0, 26.0, 26.0],\n",
       "  [18.0, 18.0, 18.0, 18.0, 18.0]],\n",
       " 60: [[49.0, 50.0, 50.0, 49.0, 50.0],\n",
       "  [62.0, 66.0, 64.0, 72.0, 58.0],\n",
       "  [18.0, 18.0, 18.0, 18.0, 24.0]]}"
      ]
     },
     "execution_count": 15,
     "metadata": {},
     "output_type": "execute_result"
    }
   ],
   "source": [
    "results"
   ]
  },
  {
   "cell_type": "code",
   "execution_count": 16,
   "metadata": {
    "execution": {
     "iopub.execute_input": "2022-11-19T00:51:48.459974Z",
     "iopub.status.busy": "2022-11-19T00:51:48.459836Z",
     "iopub.status.idle": "2022-11-19T00:51:48.632495Z",
     "shell.execute_reply": "2022-11-19T00:51:48.632199Z",
     "shell.execute_reply.started": "2022-11-19T00:51:48.459962Z"
    },
    "tags": []
   },
   "outputs": [
    {
     "data": {
      "image/png": "[encoded data removed]",
      "text/plain": [
       "<Figure size 432x288 with 1 Axes>"
      ]
     },
     "metadata": {
      "needs_background": "light"
     },
     "output_type": "display_data"
    }
   ],
   "source": [
    "plt.figure()\n",
    "\n",
    "for i in range(3):\n",
    "    tmp = []\n",
    "    for v in results.values():\n",
    "        stdev = np.std(v[i])\n",
    "        mean = np.mean(v[i])\n",
    "        tmp.append([np.mean(v[i]), np.std(v[i])])\n",
    "    tmp = np.array(tmp)\n",
    "    plt.errorbar(n_agents, tmp[:, 0], yerr=tmp[:, 1])\n",
    "\n",
    "plt.legend(['BFGS', 'DANE', 'CEDANE'])\n",
    "plt.xlabel('n')\n",
    "plt.ylabel('Communications')\n",
    "plt.show()"
   ]
  },
  {
   "cell_type": "markdown",
   "metadata": {},
   "source": [
    "# Varing kappa"
   ]
  },
  {
   "cell_type": "code",
   "execution_count": 17,
   "metadata": {
    "execution": {
     "iopub.execute_input": "2022-11-19T00:51:48.633220Z",
     "iopub.status.busy": "2022-11-19T00:51:48.633069Z",
     "iopub.status.idle": "2022-11-19T01:31:26.603626Z",
     "shell.execute_reply": "2022-11-19T01:31:26.602883Z",
     "shell.execute_reply.started": "2022-11-19T00:51:48.633207Z"
    },
    "tags": []
   },
   "outputs": [
    {
     "name": "stderr",
     "output_type": "stream",
     "text": [
      "\u001b[33mWARNING 19:51:48.6378 5691 3613059648.py:12] kappa = 10\u001b[0m\n",
      "\u001b[33mWARNING 19:51:48.6387 5691 3613059648.py:36] Round 0\u001b[0m\n",
      "\u001b[33mWARNING 19:51:58.7630 5691 3613059648.py:36] Round 1\u001b[0m\n",
      "\u001b[33mWARNING 19:52:08.7485 5691 3613059648.py:36] Round 2\u001b[0m\n",
      "\u001b[33mWARNING 19:52:18.7319 5691 3613059648.py:36] Round 3\u001b[0m\n",
      "\u001b[33mWARNING 19:52:28.8707 5691 3613059648.py:36] Round 4\u001b[0m\n",
      "\u001b[33mWARNING 19:52:39.0800 5691 3613059648.py:12] kappa = 100\u001b[0m\n",
      "\u001b[33mWARNING 19:52:39.0809 5691 3613059648.py:36] Round 0\u001b[0m\n",
      "\u001b[33mWARNING 19:53:01.8712 5691 3613059648.py:36] Round 1\u001b[0m\n",
      "\u001b[33mWARNING 19:53:24.6715 5691 3613059648.py:36] Round 2\u001b[0m\n",
      "\u001b[33mWARNING 19:53:47.3584 5691 3613059648.py:36] Round 3\u001b[0m\n",
      "\u001b[33mWARNING 19:54:10.2023 5691 3613059648.py:36] Round 4\u001b[0m\n",
      "\u001b[33mWARNING 19:54:32.9005 5691 3613059648.py:12] kappa = 1000\u001b[0m\n",
      "\u001b[33mWARNING 19:54:32.9015 5691 3613059648.py:36] Round 0\u001b[0m\n",
      "\u001b[33mWARNING 19:55:37.3181 5691 3613059648.py:36] Round 1\u001b[0m\n",
      "\u001b[33mWARNING 19:56:42.1562 5691 3613059648.py:36] Round 2\u001b[0m\n",
      "\u001b[33mWARNING 19:57:46.2703 5691 3613059648.py:36] Round 3\u001b[0m\n",
      "\u001b[33mWARNING 19:58:50.9344 5691 3613059648.py:36] Round 4\u001b[0m\n",
      "\u001b[33mWARNING 19:59:55.5570 5691 3613059648.py:12] kappa = 10000\u001b[0m\n",
      "\u001b[33mWARNING 19:59:55.5583 5691 3613059648.py:36] Round 0\u001b[0m\n",
      "\u001b[33mWARNING 20:06:13.0109 5691 3613059648.py:36] Round 1\u001b[0m\n",
      "\u001b[33mWARNING 20:12:32.7062 5691 3613059648.py:36] Round 2\u001b[0m\n",
      "\u001b[33mWARNING 20:18:51.4892 5691 3613059648.py:36] Round 3\u001b[0m\n",
      "\u001b[33mWARNING 20:25:07.9664 5691 3613059648.py:36] Round 4\u001b[0m\n"
     ]
    }
   ],
   "source": [
    "n_agent = 20\n",
    "\n",
    "n_rounds = 5\n",
    "n_iters = 1000\n",
    "\n",
    "eps = 1e-7\n",
    "\n",
    "kappas = [10, 100, 1000, 10000]\n",
    "results = {_: [[], [], []] for _ in kappas}\n",
    "\n",
    "for kappa in kappas:\n",
    "    log.warn(f\"kappa = {kappa}\") \n",
    "\n",
    "    if kappa == 10:\n",
    "    \n",
    "        mu_BFGS =1\n",
    "        mu_DANE =1E-5\n",
    "        mu_CEDANE = 1E-2\n",
    "    elif kappa == 100:\n",
    "\n",
    "        mu_BFGS =1.2\n",
    "        mu_DANE =0.005\n",
    "        mu_CEDANE =0.01\n",
    "    elif kappa == 1000:\n",
    "\n",
    "        mu_BFGS =1.2\n",
    "        mu_DANE =0.005\n",
    "        mu_CEDANE =0.01\n",
    "    else:\n",
    "\n",
    "        mu_BFGS =1.2\n",
    "        mu_DANE =0.003\n",
    "        mu_CEDANE = 0.01       \n",
    "\n",
    "    for _ in range(n_rounds):\n",
    "        log.warn(f\"Round {_}\")\n",
    "\n",
    "        p = LogisticRegression(n_agent=n_agent, kappa=kappa, graph_type='er', graph_params=0.5, dataset='gisette',normalize_data=True)\n",
    "        x_0 = np.random.randn(p.dim, n_agent).mean(axis=1)        \n",
    "        \n",
    "        exps = [\n",
    "            BFGS(p, n_iters=2*n_iters, mu=mu_BFGS, x_0=x_0, grad_eps=None, var_eps=1e-9, f_eps=eps),\n",
    "            DANE(p, n_iters=n_iters, local_n_iters=100, mu=mu_DANE, x_0=x_0, grad_eps=None, var_eps=1e-9, f_eps=eps),\n",
    "            CEDANE(p, n_iters=n_iters, local_n_iters=100, mu=mu_CEDANE, x_0=x_0, grad_eps=None, var_eps=1e-9, f_eps=eps),\n",
    "        ]\n",
    "    \n",
    "        res = run_exp(exps, kappa=kappa, max_iter=n_iters, n_gpus=1, processes_per_gpu=4, plot=False, save=False)\n",
    "        \n",
    "        for i in range(3):\n",
    "            f = res[i][1].f\n",
    "            f = f / p.f_min - 1\n",
    "            mask = f <= 1e-7\n",
    "            if mask.sum() > 0:\n",
    "                results[kappa][i].append(res[i][1].loc[mask].comm_rounds.values[0])\n",
    "            else:\n",
    "                results[kappa][i].append(n_iters)"
   ]
  },
  {
   "cell_type": "code",
   "execution_count": 18,
   "metadata": {
    "execution": {
     "iopub.execute_input": "2022-11-19T01:31:26.605164Z",
     "iopub.status.busy": "2022-11-19T01:31:26.604889Z",
     "iopub.status.idle": "2022-11-19T01:31:26.608224Z",
     "shell.execute_reply": "2022-11-19T01:31:26.607947Z",
     "shell.execute_reply.started": "2022-11-19T01:31:26.605144Z"
    },
    "tags": []
   },
   "outputs": [],
   "source": [
    "with open('kappa.pickle', 'wb') as f:\n",
    "    pickle.dump(results, f, pickle.HIGHEST_PROTOCOL)"
   ]
  },
  {
   "cell_type": "code",
   "execution_count": 19,
   "metadata": {
    "execution": {
     "iopub.execute_input": "2022-11-19T01:31:26.608879Z",
     "iopub.status.busy": "2022-11-19T01:31:26.608735Z",
     "iopub.status.idle": "2022-11-19T01:31:26.696465Z",
     "shell.execute_reply": "2022-11-19T01:31:26.696206Z",
     "shell.execute_reply.started": "2022-11-19T01:31:26.608866Z"
    },
    "tags": []
   },
   "outputs": [
    {
     "data": {
      "text/plain": [
       "{10: [[17.0, 16.0, 16.0, 16.0, 15.0],\n",
       "  [6.0, 6.0, 6.0, 6.0, 6.0],\n",
       "  [6.0, 6.0, 6.0, 6.0, 6.0]],\n",
       " 100: [[50.0, 52.0, 48.0, 51.0, 49.0],\n",
       "  [16.0, 16.0, 16.0, 16.0, 16.0],\n",
       "  [14.0, 14.0, 14.0, 14.0, 14.0]],\n",
       " 1000: [[116.0, 120.0, 119.0, 114.0, 115.0],\n",
       "  [88.0, 88.0, 88.0, 88.0, 88.0],\n",
       "  [40.0, 40.0, 40.0, 40.0, 40.0]],\n",
       " 10000: [[222.0, 226.0, 233.0, 223.0, 227.0],\n",
       "  [1000, 1000, 1000, 1000, 1000],\n",
       "  [284.0, 286.0, 284.0, 284.0, 286.0]]}"
      ]
     },
     "execution_count": 19,
     "metadata": {},
     "output_type": "execute_result"
    }
   ],
   "source": [
    "results"
   ]
  },
  {
   "cell_type": "code",
   "execution_count": 21,
   "metadata": {
    "execution": {
     "iopub.execute_input": "2022-11-19T02:26:06.152288Z",
     "iopub.status.busy": "2022-11-19T02:26:06.152058Z",
     "iopub.status.idle": "2022-11-19T02:26:06.363384Z",
     "shell.execute_reply": "2022-11-19T02:26:06.363067Z",
     "shell.execute_reply.started": "2022-11-19T02:26:06.152272Z"
    },
    "tags": []
   },
   "outputs": [
    {
     "data": {
      "image/png": "[encoded data removed]",
      "text/plain": [
       "<Figure size 432x288 with 1 Axes>"
      ]
     },
     "metadata": {
      "needs_background": "light"
     },
     "output_type": "display_data"
    }
   ],
   "source": [
    "plt.figure()\n",
    "\n",
    "for i in range(3):\n",
    "    tmp = []\n",
    "    for v in results.values():\n",
    "        stdev = np.std(v[i])\n",
    "        mean = np.mean(v[i])\n",
    "        tmp.append([np.mean(v[i]), np.std(v[i])])\n",
    "    tmp = np.array(tmp)\n",
    "    plt.errorbar(kappas, tmp[:, 0], yerr=tmp[:, 1])\n",
    "\n",
    "plt.xscale('log')\n",
    "plt.legend(['BFGS', 'DANE', 'CEDANE'])\n",
    "plt.xlabel(r'$\\kappa$')\n",
    "plt.ylabel('Communications')\n",
    "plt.show()"
   ]
  },
  {
   "cell_type": "code",
   "execution_count": null,
   "metadata": {},
   "outputs": [],
   "source": []
  }
 ],
 "metadata": {
  "kernelspec": {
   "display_name": "test",
   "language": "python",
   "name": "test"
  },
  "language_info": {
   "codemirror_mode": {
    "name": "ipython",
    "version": 3
   },
   "file_extension": ".py",
   "mimetype": "text/x-python",
   "name": "python",
   "nbconvert_exporter": "python",
   "pygments_lexer": "ipython3",
   "version": "3.8.12"
  },
  "toc-autonumbering": true,
  "vscode": {
   "interpreter": {
    "hash": "40d3a090f54c6569ab1632332b64b2c03c39dcf918b08424e98f38b5ae0af88f"
   }
  }
 },
 "nbformat": 4,
 "nbformat_minor": 4
}
